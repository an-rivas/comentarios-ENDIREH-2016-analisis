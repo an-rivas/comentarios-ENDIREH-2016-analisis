{
 "cells": [
  {
   "cell_type": "markdown",
   "metadata": {},
   "source": [
    "# <font color=\"purple\">**Licenciatura en Tecnologías para la Información en Ciencias**</font>\n",
    "\n",
    "## <font color=\"blue\">**LTIC-0980: Tópicos Selectos de Ciencia de Datos**</font>\n",
    "\n",
    "### <font color=\"blue\">**Exploración de patrones en los comentarios de la ENDIREH**</font>\n",
    "\n",
    "### Angélica Nayeli Rivas Bedolla:    418128734\n",
    "\n",
    "### Semestre 2021-1\n",
    "\n",
    "### Miércoles 03 de febrero de 2021"
   ]
  },
  {
   "cell_type": "markdown",
   "metadata": {},
   "source": [
    "# Introducción"
   ]
  },
  {
   "cell_type": "markdown",
   "metadata": {},
   "source": [
    "El Instituto Nacional de Estadística y Geografía (INEGI) por medio de La Encuesta Nacional sobre la Dinámica de las Relaciones en los Hogares (ENDIREH), recolecta datos sobre la trascendencia y preeminencia de actos de violencia experimentados con mayor frecuencia por las mujeres mexicanas, contribuyendo al desarrollo de investigaciones y diseño de políticas públicas orientadas a atender y erradicar la violencia contra la mujer. Con esta encuesta se obtienen estimaciones estadísticas que detallan los actos violentos experimentados con mayor frecuencia por las mujeres, en los ámbitos escolar, laboral, familiar y comunitario, los sujetos que ejercen dicha violencia, el espacio físico en donde lo realizan, las relaciones de pareja, las acciones violentas experimentadas a lo largo de estas y la denuncia de estos actos ante las instituciones correspondientes (INEGI, 2016)."
   ]
  },
  {
   "cell_type": "markdown",
   "metadata": {},
   "source": [
    "# Objetivo"
   ]
  },
  {
   "cell_type": "markdown",
   "metadata": {},
   "source": [
    "Identificar los tipos de comentarios reportados en la Encuesta Nacional sobre Dinámica de las Relaciones en los Hogares (ENDIREH) 2016, mediante el uso de herramientas de aprendizaje automático, en específico minería de texto. "
   ]
  },
  {
   "cell_type": "markdown",
   "metadata": {},
   "source": [
    "# Código fuente"
   ]
  },
  {
   "cell_type": "markdown",
   "metadata": {},
   "source": [
    "## Librerías"
   ]
  },
  {
   "cell_type": "code",
   "execution_count": 1,
   "metadata": {},
   "outputs": [],
   "source": [
    "#preprocesamiento\n",
    "import pandas as pd\n",
    "import numpy as np\n",
    "import random\n",
    "import copy\n",
    "from sklearn.preprocessing import LabelEncoder\n",
    "from collections import defaultdict\n",
    "\n",
    "#tokenizar \n",
    "import nltk\n",
    "from nltk.tokenize import RegexpTokenizer \n",
    "from nltk.corpus import stopwords\n",
    "\n",
    "#stemmer\n",
    "from nltk.stem import SnowballStemmer\n",
    "\n",
    "#tfidf\n",
    "from sklearn.feature_extraction.text import TfidfVectorizer\n",
    "\n",
    "#descomposicion matricial no negativa\n",
    "from sklearn.decomposition import NMF\n",
    "\n",
    "#metodo del codo\n",
    "from sklearn.feature_extraction.text import CountVectorizer \n",
    "\n",
    "#clustering\n",
    "from sklearn.cluster import KMeans\n",
    "import numpy as np\n",
    "import matplotlib.pyplot as plt\n",
    "\n",
    "#el archivo de funciones auxiliar\n",
    "from funciones import *"
   ]
  },
  {
   "cell_type": "markdown",
   "metadata": {},
   "source": [
    "## 1. Conjunto de datos ENDIREH Sección XIX: Comentarios"
   ]
  },
  {
   "cell_type": "code",
   "execution_count": 24,
   "metadata": {},
   "outputs": [],
   "source": [
    "ruta_parcial = \"conjunto_de_datos_tb_sec_xix_endireh_2016/conjunto_de_datos/conjunto_de_datos_tb_sec_xix_endireh_2016.csv\"\n",
    "#ruta_parcial = \"../conjunto_de_datos_tb_sec_xix_endireh_2016/conjunto_de_datos/conjunto_de_datos_tb_sec_xix_endireh_2016.csv\"\n",
    "\n",
    "endireh = pd.read_csv(ruta_parcial, na_values=['\\r'])"
   ]
  },
  {
   "cell_type": "code",
   "execution_count": 3,
   "metadata": {},
   "outputs": [
    {
     "data": {
      "text/html": [
       "<div>\n",
       "<style scoped>\n",
       "    .dataframe tbody tr th:only-of-type {\n",
       "        vertical-align: middle;\n",
       "    }\n",
       "\n",
       "    .dataframe tbody tr th {\n",
       "        vertical-align: top;\n",
       "    }\n",
       "\n",
       "    .dataframe thead th {\n",
       "        text-align: right;\n",
       "    }\n",
       "</style>\n",
       "<table border=\"1\" class=\"dataframe\">\n",
       "  <thead>\n",
       "    <tr style=\"text-align: right;\">\n",
       "      <th></th>\n",
       "      <th>ID_VIV</th>\n",
       "      <th>ID_MUJ</th>\n",
       "      <th>UPM</th>\n",
       "      <th>REN_M_ELE</th>\n",
       "      <th>VIV_SEL</th>\n",
       "      <th>PROG</th>\n",
       "      <th>HOGAR</th>\n",
       "      <th>DOMINIO</th>\n",
       "      <th>CVE_ENT</th>\n",
       "      <th>NOM_ENT</th>\n",
       "      <th>...</th>\n",
       "      <th>P19_1</th>\n",
       "      <th>P19_1e</th>\n",
       "      <th>P19_2</th>\n",
       "      <th>P19_2e</th>\n",
       "      <th>O_ACT_VIO</th>\n",
       "      <th>FAC_VIV</th>\n",
       "      <th>FAC_MUJ</th>\n",
       "      <th>ESTRATO</th>\n",
       "      <th>UPM_DIS</th>\n",
       "      <th>EST_DIS</th>\n",
       "    </tr>\n",
       "  </thead>\n",
       "  <tbody>\n",
       "    <tr>\n",
       "      <th>0</th>\n",
       "      <td>100090.04</td>\n",
       "      <td>0100090.04.01.02\\r</td>\n",
       "      <td>100090</td>\n",
       "      <td>2</td>\n",
       "      <td>4</td>\n",
       "      <td>78</td>\n",
       "      <td>1</td>\n",
       "      <td>U\\r</td>\n",
       "      <td>1</td>\n",
       "      <td>Aguascalientes\\r</td>\n",
       "      <td>...</td>\n",
       "      <td>0.0</td>\n",
       "      <td>NaN</td>\n",
       "      <td>1</td>\n",
       "      <td>NaN</td>\n",
       "      <td>NaN</td>\n",
       "      <td>72</td>\n",
       "      <td>72</td>\n",
       "      <td>2</td>\n",
       "      <td>26</td>\n",
       "      <td>10</td>\n",
       "    </tr>\n",
       "    <tr>\n",
       "      <th>1</th>\n",
       "      <td>100097.01</td>\n",
       "      <td>0100097.01.01.02\\r</td>\n",
       "      <td>100097</td>\n",
       "      <td>2</td>\n",
       "      <td>1</td>\n",
       "      <td>18</td>\n",
       "      <td>1</td>\n",
       "      <td>U\\r</td>\n",
       "      <td>1</td>\n",
       "      <td>Aguascalientes\\r</td>\n",
       "      <td>...</td>\n",
       "      <td>0.0</td>\n",
       "      <td>NaN</td>\n",
       "      <td>1</td>\n",
       "      <td>NaN</td>\n",
       "      <td>NaN</td>\n",
       "      <td>82</td>\n",
       "      <td>82</td>\n",
       "      <td>2</td>\n",
       "      <td>28</td>\n",
       "      <td>10</td>\n",
       "    </tr>\n",
       "    <tr>\n",
       "      <th>2</th>\n",
       "      <td>100097.05</td>\n",
       "      <td>0100097.05.01.01\\r</td>\n",
       "      <td>100097</td>\n",
       "      <td>1</td>\n",
       "      <td>5</td>\n",
       "      <td>121</td>\n",
       "      <td>1</td>\n",
       "      <td>U\\r</td>\n",
       "      <td>1</td>\n",
       "      <td>Aguascalientes\\r</td>\n",
       "      <td>...</td>\n",
       "      <td>0.0</td>\n",
       "      <td>NaN</td>\n",
       "      <td>1</td>\n",
       "      <td>NaN</td>\n",
       "      <td>NaN</td>\n",
       "      <td>82</td>\n",
       "      <td>82</td>\n",
       "      <td>2</td>\n",
       "      <td>28</td>\n",
       "      <td>10</td>\n",
       "    </tr>\n",
       "    <tr>\n",
       "      <th>3</th>\n",
       "      <td>100097.03</td>\n",
       "      <td>0100097.03.01.02\\r</td>\n",
       "      <td>100097</td>\n",
       "      <td>2</td>\n",
       "      <td>3</td>\n",
       "      <td>130</td>\n",
       "      <td>1</td>\n",
       "      <td>U\\r</td>\n",
       "      <td>1</td>\n",
       "      <td>Aguascalientes\\r</td>\n",
       "      <td>...</td>\n",
       "      <td>0.0</td>\n",
       "      <td>NaN</td>\n",
       "      <td>1</td>\n",
       "      <td>NaN</td>\n",
       "      <td>NaN</td>\n",
       "      <td>82</td>\n",
       "      <td>82</td>\n",
       "      <td>2</td>\n",
       "      <td>28</td>\n",
       "      <td>10</td>\n",
       "    </tr>\n",
       "    <tr>\n",
       "      <th>4</th>\n",
       "      <td>100101.03</td>\n",
       "      <td>0100101.03.01.01\\r</td>\n",
       "      <td>100101</td>\n",
       "      <td>1</td>\n",
       "      <td>3</td>\n",
       "      <td>33</td>\n",
       "      <td>1</td>\n",
       "      <td>U\\r</td>\n",
       "      <td>1</td>\n",
       "      <td>Aguascalientes\\r</td>\n",
       "      <td>...</td>\n",
       "      <td>0.0</td>\n",
       "      <td>NaN</td>\n",
       "      <td>1</td>\n",
       "      <td>NaN</td>\n",
       "      <td>NaN</td>\n",
       "      <td>94</td>\n",
       "      <td>94</td>\n",
       "      <td>3</td>\n",
       "      <td>29</td>\n",
       "      <td>20</td>\n",
       "    </tr>\n",
       "  </tbody>\n",
       "</table>\n",
       "<p>5 rows × 25 columns</p>\n",
       "</div>"
      ],
      "text/plain": [
       "      ID_VIV              ID_MUJ     UPM  REN_M_ELE  VIV_SEL  PROG  HOGAR  \\\n",
       "0  100090.04  0100090.04.01.02\\r  100090          2        4    78      1   \n",
       "1  100097.01  0100097.01.01.02\\r  100097          2        1    18      1   \n",
       "2  100097.05  0100097.05.01.01\\r  100097          1        5   121      1   \n",
       "3  100097.03  0100097.03.01.02\\r  100097          2        3   130      1   \n",
       "4  100101.03  0100101.03.01.01\\r  100101          1        3    33      1   \n",
       "\n",
       "  DOMINIO  CVE_ENT           NOM_ENT   ...     P19_1 P19_1e  P19_2  P19_2e  \\\n",
       "0     U\\r        1  Aguascalientes\\r   ...       0.0    NaN      1     NaN   \n",
       "1     U\\r        1  Aguascalientes\\r   ...       0.0    NaN      1     NaN   \n",
       "2     U\\r        1  Aguascalientes\\r   ...       0.0    NaN      1     NaN   \n",
       "3     U\\r        1  Aguascalientes\\r   ...       0.0    NaN      1     NaN   \n",
       "4     U\\r        1  Aguascalientes\\r   ...       0.0    NaN      1     NaN   \n",
       "\n",
       "  O_ACT_VIO  FAC_VIV FAC_MUJ  ESTRATO UPM_DIS  EST_DIS  \n",
       "0       NaN       72      72        2      26       10  \n",
       "1       NaN       82      82        2      28       10  \n",
       "2       NaN       82      82        2      28       10  \n",
       "3       NaN       82      82        2      28       10  \n",
       "4       NaN       94      94        3      29       20  \n",
       "\n",
       "[5 rows x 25 columns]"
      ]
     },
     "execution_count": 3,
     "metadata": {},
     "output_type": "execute_result"
    }
   ],
   "source": [
    "endireh.head()"
   ]
  },
  {
   "cell_type": "markdown",
   "metadata": {},
   "source": [
    "#### Columnas en el conjunto de datos"
   ]
  },
  {
   "cell_type": "code",
   "execution_count": 4,
   "metadata": {},
   "outputs": [
    {
     "data": {
      "text/plain": [
       "Index(['ID_VIV', 'ID_MUJ', 'UPM', 'REN_M_ELE', 'VIV_SEL', 'PROG', 'HOGAR',\n",
       "       'DOMINIO', 'CVE_ENT', 'NOM_ENT', 'CVE_MUN', 'NOM_MUN', 'COD_RES',\n",
       "       'COD_RES_MU', 'T_INSTRUM', 'P19_1', 'P19_1e', 'P19_2', 'P19_2e',\n",
       "       'O_ACT_VIO', 'FAC_VIV', 'FAC_MUJ', 'ESTRATO', 'UPM_DIS', 'EST_DIS'],\n",
       "      dtype='object')"
      ]
     },
     "execution_count": 4,
     "metadata": {},
     "output_type": "execute_result"
    }
   ],
   "source": [
    "endireh.columns"
   ]
  },
  {
   "cell_type": "markdown",
   "metadata": {},
   "source": [
    "El archivo CSV tiene 25 atributos que representan: ID_VIV (identificador de vivienda), ID_MUJ (identificador de mujer), HOGAR (número de hogar de la mujer), DOMINIO (tipo de vivienda), CVE_ENT (clave de entidad federativa), NOM_ENT (nombre de entidad federativa), CVE_MUN (clave de municipio), NOM_MUN (nombre de municipio), COD_RES_MU (si se completó la entrevista), COD_RES (por quién se completó la entrevista), T_INSTRUM (tipo de entrevista hecha), P9_1 (comentarios adicionales), P9_1e (el comentario), P9_2 (cómo se sintió la entrevistada), P9_2e (un sentir diferente al especificado en respuestas), y, O_ACT_VIO (actos violentos diferentes a los especificados en el cuestionario). Entre otras columnas que no tienen explicación de qué información representan. "
   ]
  },
  {
   "cell_type": "markdown",
   "metadata": {},
   "source": [
    "#### Tamaño del conjunto de datos"
   ]
  },
  {
   "cell_type": "code",
   "execution_count": 5,
   "metadata": {},
   "outputs": [
    {
     "data": {
      "text/plain": [
       "(111256, 25)"
      ]
     },
     "execution_count": 5,
     "metadata": {},
     "output_type": "execute_result"
    }
   ],
   "source": [
    "endireh.shape"
   ]
  },
  {
   "cell_type": "markdown",
   "metadata": {},
   "source": [
    "#### Cantidad de registros sin comentarios."
   ]
  },
  {
   "cell_type": "code",
   "execution_count": 6,
   "metadata": {},
   "outputs": [
    {
     "data": {
      "text/plain": [
       "P19_1e    108329\n",
       "dtype: int64"
      ]
     },
     "execution_count": 6,
     "metadata": {},
     "output_type": "execute_result"
    }
   ],
   "source": [
    "endireh[['P19_1e']].isnull().sum()"
   ]
  },
  {
   "cell_type": "markdown",
   "metadata": {},
   "source": [
    "Solo 2,927 de las entrevistadas dijeron un comentario sobre la entrevista."
   ]
  },
  {
   "cell_type": "markdown",
   "metadata": {},
   "source": [
    "#### Eliminar los registros que no tienen comentarios"
   ]
  },
  {
   "cell_type": "code",
   "execution_count": 25,
   "metadata": {},
   "outputs": [],
   "source": [
    "endireh_c = copy.copy(endireh)"
   ]
  },
  {
   "cell_type": "code",
   "execution_count": 26,
   "metadata": {},
   "outputs": [],
   "source": [
    "endireh_c.dropna(subset=['P19_1e'], inplace=True) #borro los registros que tienen NaN en lugar de comentarios\n",
    "endireh_c.reset_index(drop=True, inplace=True) #reajustar el índice"
   ]
  },
  {
   "cell_type": "markdown",
   "metadata": {},
   "source": [
    "#### Cuantos comentarios tienen una categoría de violencia (O_ACT_VIO)"
   ]
  },
  {
   "cell_type": "code",
   "execution_count": 9,
   "metadata": {},
   "outputs": [
    {
     "data": {
      "text/plain": [
       "5.0    18\n",
       "4.0    11\n",
       "2.0     6\n",
       "6.0     3\n",
       "3.0     3\n",
       "1.0     3\n",
       "Name: O_ACT_VIO, dtype: int64"
      ]
     },
     "execution_count": 9,
     "metadata": {},
     "output_type": "execute_result"
    }
   ],
   "source": [
    "endireh_c['O_ACT_VIO'].value_counts()"
   ]
  },
  {
   "cell_type": "markdown",
   "metadata": {},
   "source": [
    "#### La cantidad de comentarios en cada sentir sobre la entrevista (P19_2)"
   ]
  },
  {
   "cell_type": "code",
   "execution_count": 10,
   "metadata": {},
   "outputs": [
    {
     "data": {
      "text/plain": [
       "1    2360\n",
       "2     344\n",
       "3     114\n",
       "4     109\n",
       "Name: P19_2, dtype: int64"
      ]
     },
     "execution_count": 10,
     "metadata": {},
     "output_type": "execute_result"
    }
   ],
   "source": [
    "endireh_c['P19_2'].value_counts()"
   ]
  },
  {
   "cell_type": "markdown",
   "metadata": {},
   "source": [
    "## 2. Preprocesamiento de datos"
   ]
  },
  {
   "cell_type": "markdown",
   "metadata": {},
   "source": [
    "#### Obtener la columna que contiene los comentarios"
   ]
  },
  {
   "cell_type": "code",
   "execution_count": 27,
   "metadata": {},
   "outputs": [],
   "source": [
    "comentarios = endireh_c['P19_1e']"
   ]
  },
  {
   "cell_type": "markdown",
   "metadata": {},
   "source": [
    "#### Eliminar signos de puntuación y hacer stem"
   ]
  },
  {
   "cell_type": "markdown",
   "metadata": {},
   "source": [
    "Dado que no hay forma de lematizar en español con la librería NLTK y no es bueno el _stemmer_ para español porque se pierde información, se harán don implementos:\n",
    " 1. solo  eliminar los signos de puntuación.\n",
    " 2. eliminar signos de puntuación y _stemmer_.\n",
    "\n",
    "Al pasar un texto a _tokenizer_ va a devolver tokens SIN signos de puntuación. Sólo palabras."
   ]
  },
  {
   "cell_type": "code",
   "execution_count": 13,
   "metadata": {},
   "outputs": [],
   "source": [
    "tokenizador = RegexpTokenizer(r'\\w+')\n",
    "stemmer = SnowballStemmer('spanish')"
   ]
  },
  {
   "cell_type": "code",
   "execution_count": 43,
   "metadata": {},
   "outputs": [],
   "source": [
    "def Tokenizer(texto):\n",
    "    tokens = tokenizador.tokenize(texto.lower())\n",
    "    return ' '.join(tokens)"
   ]
  },
  {
   "cell_type": "code",
   "execution_count": 44,
   "metadata": {},
   "outputs": [],
   "source": [
    "def Stemmer(texto):\n",
    "    tokens = tokenizador.tokenize(texto.lower())\n",
    "    letras_stem = []\n",
    "    for t in tokens:\n",
    "        letras_stem.append((stemmer.stem(t)))\n",
    "\n",
    "    return ' '.join(letras_stem)"
   ]
  },
  {
   "cell_type": "markdown",
   "metadata": {},
   "source": [
    "## 3. Encontrar las $k$ palabras principales de los $n$ temas."
   ]
  },
  {
   "cell_type": "markdown",
   "metadata": {},
   "source": [
    "Justificación aquí"
   ]
  },
  {
   "cell_type": "code",
   "execution_count": 22,
   "metadata": {},
   "outputs": [],
   "source": [
    "def factorizacion(preprocessor, texts, n_components, k, semilla=42):\n",
    "    \"\"\"\n",
    "    Recibe:\n",
    "        preprocessor: funcion para preprocesar textos\n",
    "        texts: estructura de datos (pansas dataframe, lista) con los textos\n",
    "        n_components: componentes para realizar la factorizacion matricial NMF, cantidad de temas\n",
    "        k: cantidad de terminos a mostrar\n",
    "        semilla: para el creador de numeros aleatorio de NMF\n",
    "    Devuelve:\n",
    "        topics: matriz con n columnas y k filas (n=temas, k=palabras).\n",
    "    \"\"\"\n",
    "    ##########\n",
    "    ##TF-IDF##\n",
    "    ##########\n",
    "    #crear el vectorizador TF-IDF\n",
    "    vectorizer = TfidfVectorizer(stop_words=stopwords.words('spanish'), \n",
    "                                 lowercase=True, \n",
    "                                 strip_accents='ascii', \n",
    "                                 preprocessor=preprocessor)\n",
    "    \n",
    "    #vectorizar textos\n",
    "    comentarios = vectorizer.fit_transform(texts)\n",
    "    \n",
    "    #Obtengo el diccionario que transforma de index a término usando un comprehension dictionary\n",
    "    id_2_vocab = {value:key for (key,value) in vectorizer.vocabulary_.items()}\n",
    "    \n",
    "    #######\n",
    "    ##NMF##\n",
    "    #######\n",
    "    #crear el modelo NMF\n",
    "    model = NMF(n_components=n_components, init='random', random_state=semilla)\n",
    "    #obtengo las matrices caracteristicas \n",
    "    W = model.fit_transform(comentarios)\n",
    "    H = model.components_\n",
    "\n",
    "    ###################################\n",
    "    ##Obtener k palabras de cada tema##\n",
    "    ###################################\n",
    "    #Las matrices obtenidas con _sklearn_ tienen los valores invertidos\n",
    "    #W es H y viceversa, y estan en transpuesta.\n",
    "    #para poder ver una matriz (temas, palabras) se obtiene la transpuesta de la verdadera W, o sea, H original.\n",
    "    topics = defaultdict(lambda : [])\n",
    "    for i in range(H.shape[0]): \n",
    "        topics[i] = [id_2_vocab[t] for t in np.argsort(H[i])[-k:]]\n",
    "\n",
    "    return topics"
   ]
  },
  {
   "cell_type": "markdown",
   "metadata": {},
   "source": [
    "## 4. Ejecuciones"
   ]
  },
  {
   "cell_type": "markdown",
   "metadata": {},
   "source": [
    "Se propusieron 3 números de componentes para la factorización no negativa: con 2 componentes, con 4 y con método del codo. Para 2 como número de componentes es porque en la columna O\\_ACT\\_VIO existen 2 tipos principales de comentarios: de violencia y no violencia, aunque no están representados proporciones similares, veremos si puede diferenciarlos. Para 4 como número de componentes es porque la columnas P19\\_2 tiene 4 categorías, tampoco están representados en la misma cantidad pero al menos no es tan abrupto como en O\\_ACT\\_VIO. Con el método del codo se elige de acuerdo a la inercia en el método de agrupación de K-Medias, se calcula el codo para $k\\in[1, ..., 15]$. Esto junto a los tipos de preprocesamiento da como resultado un total de 6 experimentos."
   ]
  },
  {
   "cell_type": "markdown",
   "metadata": {},
   "source": [
    "### 4.1 Con $n$=2"
   ]
  },
  {
   "cell_type": "markdown",
   "metadata": {},
   "source": [
    "Como visto en la columna _O\\_ACT\\_VIO_, puede haber 2 tipos principales de comentarios: de violencia o no violencia.\n",
    "Por ello, se hace una descomposición de 2 factores, para saber si se puede dintinguir entre estos dos tipos."
   ]
  },
  {
   "cell_type": "markdown",
   "metadata": {},
   "source": [
    "#### Con _tokens_."
   ]
  },
  {
   "cell_type": "code",
   "execution_count": 67,
   "metadata": {},
   "outputs": [
    {
     "data": {
      "text/html": [
       "<div>\n",
       "<style scoped>\n",
       "    .dataframe tbody tr th:only-of-type {\n",
       "        vertical-align: middle;\n",
       "    }\n",
       "\n",
       "    .dataframe tbody tr th {\n",
       "        vertical-align: top;\n",
       "    }\n",
       "\n",
       "    .dataframe thead th {\n",
       "        text-align: right;\n",
       "    }\n",
       "</style>\n",
       "<table border=\"1\" class=\"dataframe\">\n",
       "  <thead>\n",
       "    <tr style=\"text-align: right;\">\n",
       "      <th></th>\n",
       "      <th>0</th>\n",
       "      <th>1</th>\n",
       "    </tr>\n",
       "  </thead>\n",
       "  <tbody>\n",
       "    <tr>\n",
       "      <th>0</th>\n",
       "      <td>tiempo</td>\n",
       "      <td>sentí</td>\n",
       "    </tr>\n",
       "    <tr>\n",
       "      <th>1</th>\n",
       "      <td>comenta</td>\n",
       "      <td>parece</td>\n",
       "    </tr>\n",
       "    <tr>\n",
       "      <th>2</th>\n",
       "      <td>entrevistada</td>\n",
       "      <td>parecio</td>\n",
       "    </tr>\n",
       "    <tr>\n",
       "      <th>3</th>\n",
       "      <td>preguntas</td>\n",
       "      <td>preguntas</td>\n",
       "    </tr>\n",
       "    <tr>\n",
       "      <th>4</th>\n",
       "      <td>encuesta</td>\n",
       "      <td>muchas</td>\n",
       "    </tr>\n",
       "  </tbody>\n",
       "</table>\n",
       "</div>"
      ],
      "text/plain": [
       "              0          1\n",
       "0        tiempo      sentí\n",
       "1       comenta     parece\n",
       "2  entrevistada    parecio\n",
       "3     preguntas  preguntas\n",
       "4      encuesta     muchas"
      ]
     },
     "execution_count": 67,
     "metadata": {},
     "output_type": "execute_result"
    }
   ],
   "source": [
    "temas = factorizacion(preprocessor=Tokenizer, texts=comentarios, n_components=2, k=5, semilla=5)\n",
    "pd.DataFrame(temas)"
   ]
  },
  {
   "cell_type": "markdown",
   "metadata": {},
   "source": [
    "#### Con _tokens_ y _stemmer_."
   ]
  },
  {
   "cell_type": "code",
   "execution_count": 14,
   "metadata": {},
   "outputs": [
    {
     "data": {
      "text/html": [
       "<div>\n",
       "<style scoped>\n",
       "    .dataframe tbody tr th:only-of-type {\n",
       "        vertical-align: middle;\n",
       "    }\n",
       "\n",
       "    .dataframe tbody tr th {\n",
       "        vertical-align: top;\n",
       "    }\n",
       "\n",
       "    .dataframe thead th {\n",
       "        text-align: right;\n",
       "    }\n",
       "</style>\n",
       "<table border=\"1\" class=\"dataframe\">\n",
       "  <thead>\n",
       "    <tr style=\"text-align: right;\">\n",
       "      <th></th>\n",
       "      <th>0</th>\n",
       "      <th>1</th>\n",
       "    </tr>\n",
       "  </thead>\n",
       "  <tbody>\n",
       "    <tr>\n",
       "      <th>0</th>\n",
       "      <td>tiemp</td>\n",
       "      <td>senti</td>\n",
       "    </tr>\n",
       "    <tr>\n",
       "      <th>1</th>\n",
       "      <td>coment</td>\n",
       "      <td>parec</td>\n",
       "    </tr>\n",
       "    <tr>\n",
       "      <th>2</th>\n",
       "      <td>entrevist</td>\n",
       "      <td>pareci</td>\n",
       "    </tr>\n",
       "    <tr>\n",
       "      <th>3</th>\n",
       "      <td>pregunt</td>\n",
       "      <td>pregunt</td>\n",
       "    </tr>\n",
       "    <tr>\n",
       "      <th>4</th>\n",
       "      <td>encuest</td>\n",
       "      <td>much</td>\n",
       "    </tr>\n",
       "  </tbody>\n",
       "</table>\n",
       "</div>"
      ],
      "text/plain": [
       "           0        1\n",
       "0      tiemp    senti\n",
       "1     coment    parec\n",
       "2  entrevist   pareci\n",
       "3    pregunt  pregunt\n",
       "4    encuest     much"
      ]
     },
     "execution_count": 14,
     "metadata": {},
     "output_type": "execute_result"
    }
   ],
   "source": [
    "temas = factorizacion(preprocessor=Stemmer, texts=comentarios, n_components=2, k=5, semilla=5)\n",
    "pd.DataFrame(temas)"
   ]
  },
  {
   "cell_type": "markdown",
   "metadata": {},
   "source": [
    "Lo que interpreto en cada columna es:\n",
    "\n",
    " 0. sobre qué piensan de la encuesta en sí.\n",
    " 1. cómo se sintieron durante la encuesta."
   ]
  },
  {
   "cell_type": "markdown",
   "metadata": {},
   "source": [
    " Da buenos resultados ya que podemos obtener dos cosas de valor sobre la encuesta, el que tal recibió el público la encuesta y la satisfacción de este. Pero no lo que buscábamos que era clasificar por tipo de mensaje, violento o no."
   ]
  },
  {
   "cell_type": "markdown",
   "metadata": {},
   "source": [
    "### 4.2 Con $n$=4"
   ]
  },
  {
   "cell_type": "markdown",
   "metadata": {},
   "source": [
    "Como visto en la columna _P19\\_2_, tiene 4 tipos principales de comentarios: bien, mal, indiferente y otro.\n",
    "Por ello, se hace una descomposición de 4 factores, para saber si se puede dintinguir entre estos cuatro tipos."
   ]
  },
  {
   "cell_type": "markdown",
   "metadata": {},
   "source": [
    "#### Con _tokens_."
   ]
  },
  {
   "cell_type": "code",
   "execution_count": 77,
   "metadata": {},
   "outputs": [
    {
     "data": {
      "text/html": [
       "<div>\n",
       "<style scoped>\n",
       "    .dataframe tbody tr th:only-of-type {\n",
       "        vertical-align: middle;\n",
       "    }\n",
       "\n",
       "    .dataframe tbody tr th {\n",
       "        vertical-align: top;\n",
       "    }\n",
       "\n",
       "    .dataframe thead th {\n",
       "        text-align: right;\n",
       "    }\n",
       "</style>\n",
       "<table border=\"1\" class=\"dataframe\">\n",
       "  <thead>\n",
       "    <tr style=\"text-align: right;\">\n",
       "      <th></th>\n",
       "      <th>0</th>\n",
       "      <th>1</th>\n",
       "      <th>2</th>\n",
       "      <th>3</th>\n",
       "    </tr>\n",
       "  </thead>\n",
       "  <tbody>\n",
       "    <tr>\n",
       "      <th>0</th>\n",
       "      <td>vida</td>\n",
       "      <td>senti</td>\n",
       "      <td>preguntas</td>\n",
       "      <td>aburrida</td>\n",
       "    </tr>\n",
       "    <tr>\n",
       "      <th>1</th>\n",
       "      <td>pareja</td>\n",
       "      <td>sintio</td>\n",
       "      <td>buenas</td>\n",
       "      <td>tiempo</td>\n",
       "    </tr>\n",
       "    <tr>\n",
       "      <th>2</th>\n",
       "      <td>hijos</td>\n",
       "      <td>tranquila</td>\n",
       "      <td>gracias</td>\n",
       "      <td>extensa</td>\n",
       "    </tr>\n",
       "    <tr>\n",
       "      <th>3</th>\n",
       "      <td>problemas</td>\n",
       "      <td>parece</td>\n",
       "      <td>repetitivas</td>\n",
       "      <td>tediosa</td>\n",
       "    </tr>\n",
       "    <tr>\n",
       "      <th>4</th>\n",
       "      <td>violencia</td>\n",
       "      <td>parecio</td>\n",
       "      <td>largo</td>\n",
       "      <td>preguntan</td>\n",
       "    </tr>\n",
       "  </tbody>\n",
       "</table>\n",
       "</div>"
      ],
      "text/plain": [
       "           0          1            2          3\n",
       "0       vida      senti    preguntas   aburrida\n",
       "1     pareja     sintio       buenas     tiempo\n",
       "2      hijos  tranquila      gracias    extensa\n",
       "3  problemas     parece  repetitivas    tediosa\n",
       "4  violencia    parecio        largo  preguntan"
      ]
     },
     "execution_count": 77,
     "metadata": {},
     "output_type": "execute_result"
    }
   ],
   "source": [
    "temas = factorizacion(preprocessor=Tokenizer, texts=comentarios, n_components=4, k=5, semilla=66)\n",
    "pd.DataFrame(temas)"
   ]
  },
  {
   "cell_type": "markdown",
   "metadata": {},
   "source": [
    "#### Con _tokens_ y _stemmer_."
   ]
  },
  {
   "cell_type": "code",
   "execution_count": 40,
   "metadata": {},
   "outputs": [
    {
     "data": {
      "text/html": [
       "<div>\n",
       "<style scoped>\n",
       "    .dataframe tbody tr th:only-of-type {\n",
       "        vertical-align: middle;\n",
       "    }\n",
       "\n",
       "    .dataframe tbody tr th {\n",
       "        vertical-align: top;\n",
       "    }\n",
       "\n",
       "    .dataframe thead th {\n",
       "        text-align: right;\n",
       "    }\n",
       "</style>\n",
       "<table border=\"1\" class=\"dataframe\">\n",
       "  <thead>\n",
       "    <tr style=\"text-align: right;\">\n",
       "      <th></th>\n",
       "      <th>0</th>\n",
       "      <th>1</th>\n",
       "      <th>2</th>\n",
       "      <th>3</th>\n",
       "    </tr>\n",
       "  </thead>\n",
       "  <tbody>\n",
       "    <tr>\n",
       "      <th>0</th>\n",
       "      <td>pregunt</td>\n",
       "      <td>vid</td>\n",
       "      <td>senti</td>\n",
       "      <td>aburr</td>\n",
       "    </tr>\n",
       "    <tr>\n",
       "      <th>1</th>\n",
       "      <td>buen</td>\n",
       "      <td>parej</td>\n",
       "      <td>parec</td>\n",
       "      <td>pregunt</td>\n",
       "    </tr>\n",
       "    <tr>\n",
       "      <th>2</th>\n",
       "      <td>repetit</td>\n",
       "      <td>hijs</td>\n",
       "      <td>tranquila</td>\n",
       "      <td>tiemp</td>\n",
       "    </tr>\n",
       "    <tr>\n",
       "      <th>3</th>\n",
       "      <td>larg</td>\n",
       "      <td>problem</td>\n",
       "      <td>pues</td>\n",
       "      <td>extens</td>\n",
       "    </tr>\n",
       "    <tr>\n",
       "      <th>4</th>\n",
       "      <td>graci</td>\n",
       "      <td>violenci</td>\n",
       "      <td>pareci</td>\n",
       "      <td>tedios</td>\n",
       "    </tr>\n",
       "  </tbody>\n",
       "</table>\n",
       "</div>"
      ],
      "text/plain": [
       "         0         1          2        3\n",
       "0  pregunt       vid      senti    aburr\n",
       "1     buen     parej      parec  pregunt\n",
       "2  repetit      hijs  tranquila    tiemp\n",
       "3     larg   problem       pues   extens\n",
       "4    graci  violenci     pareci   tedios"
      ]
     },
     "execution_count": 40,
     "metadata": {},
     "output_type": "execute_result"
    }
   ],
   "source": [
    "temas = factorizacion(preprocessor=Stemmer, texts=comentarios, n_components=4, k=5, semilla=66)\n",
    "pd.DataFrame(temas)"
   ]
  },
  {
   "cell_type": "markdown",
   "metadata": {},
   "source": [
    "Lo que interpreto en cada columna es:\n",
    "\n",
    " 0. vida en pareja, hijos, violencia y problemas.\n",
    " 1. cómo se sintieron durante la encuesta.\n",
    " 2. sobre qué piensan de la encuesta en sí, neutral.\n",
    " 3. sobre qué piensan de la encuesta en sí, en negativo.\n"
   ]
  },
  {
   "cell_type": "markdown",
   "metadata": {},
   "source": [
    "Se supone que de las encuestadas que dieron un comentario, un 80\\% se categorizó como sentirse bien, pero no salió alguna categoría positiva, solo negativo y mezcla entre positivo y negativo, lo cual hace que sea una repetición innecesaria sobre el mismo tipo de comentarios. Aparte apareció una categoría que representa violencia, a la mayor cantidad de comentarios se ven representados esos 44 comentarios sobre violencia."
   ]
  },
  {
   "cell_type": "markdown",
   "metadata": {},
   "source": [
    "### 4.3 Elección de la $n$ con método del codo\n",
    "\n",
    "Los algoritmo usados en esta sección perteneces al archivo _funciones.py_"
   ]
  },
  {
   "cell_type": "markdown",
   "metadata": {},
   "source": [
    "#### Con _tokens_"
   ]
  },
  {
   "cell_type": "markdown",
   "metadata": {},
   "source": [
    "Vectorizo las palabras"
   ]
  },
  {
   "cell_type": "code",
   "execution_count": 17,
   "metadata": {},
   "outputs": [],
   "source": [
    "vectorizador = CountVectorizer(stop_words=stopwords.words('spanish'), preprocessor=Tokenizer) \n",
    "M = vectorizador.fit_transform(comentarios)"
   ]
  },
  {
   "cell_type": "markdown",
   "metadata": {},
   "source": [
    "Con la función que calcula las inercias de las agrupaciones, obtengo los valores del codo y los grafico."
   ]
  },
  {
   "cell_type": "code",
   "execution_count": 18,
   "metadata": {},
   "outputs": [
    {
     "data": {
      "image/png": "[encoded data removed]",
      "text/plain": [
       "<Figure size 432x288 with 1 Axes>"
      ]
     },
     "metadata": {
      "needs_background": "light"
     },
     "output_type": "display_data"
    }
   ],
   "source": [
    "codo = select_clusters(M, 15)\n",
    "plot_results_codo(codo, \"ro-\")"
   ]
  },
  {
   "cell_type": "markdown",
   "metadata": {},
   "source": [
    "Donde aparece un primer codo es en $n$ = 3"
   ]
  },
  {
   "cell_type": "code",
   "execution_count": 71,
   "metadata": {},
   "outputs": [
    {
     "data": {
      "text/html": [
       "<div>\n",
       "<style scoped>\n",
       "    .dataframe tbody tr th:only-of-type {\n",
       "        vertical-align: middle;\n",
       "    }\n",
       "\n",
       "    .dataframe tbody tr th {\n",
       "        vertical-align: top;\n",
       "    }\n",
       "\n",
       "    .dataframe thead th {\n",
       "        text-align: right;\n",
       "    }\n",
       "</style>\n",
       "<table border=\"1\" class=\"dataframe\">\n",
       "  <thead>\n",
       "    <tr style=\"text-align: right;\">\n",
       "      <th></th>\n",
       "      <th>0</th>\n",
       "      <th>1</th>\n",
       "      <th>2</th>\n",
       "    </tr>\n",
       "  </thead>\n",
       "  <tbody>\n",
       "    <tr>\n",
       "      <th>0</th>\n",
       "      <td>aburrida</td>\n",
       "      <td>tranquila</td>\n",
       "      <td>hijos</td>\n",
       "    </tr>\n",
       "    <tr>\n",
       "      <th>1</th>\n",
       "      <td>pregunta</td>\n",
       "      <td>gracias</td>\n",
       "      <td>problemas</td>\n",
       "    </tr>\n",
       "    <tr>\n",
       "      <th>2</th>\n",
       "      <td>demasiado</td>\n",
       "      <td>sintio</td>\n",
       "      <td>mujer</td>\n",
       "    </tr>\n",
       "    <tr>\n",
       "      <th>3</th>\n",
       "      <td>extensa</td>\n",
       "      <td>haciendo</td>\n",
       "      <td>esposo</td>\n",
       "    </tr>\n",
       "    <tr>\n",
       "      <th>4</th>\n",
       "      <td>tediosa</td>\n",
       "      <td>pues</td>\n",
       "      <td>violencia</td>\n",
       "    </tr>\n",
       "  </tbody>\n",
       "</table>\n",
       "</div>"
      ],
      "text/plain": [
       "           0          1          2\n",
       "0   aburrida  tranquila      hijos\n",
       "1   pregunta    gracias  problemas\n",
       "2  demasiado     sintio      mujer\n",
       "3    extensa   haciendo     esposo\n",
       "4    tediosa       pues  violencia"
      ]
     },
     "execution_count": 71,
     "metadata": {},
     "output_type": "execute_result"
    }
   ],
   "source": [
    "temas = factorizacion(preprocessor=Tokenizer, texts=comentarios, n_components=3, k=5, semilla=42)\n",
    "pd.DataFrame(temas)"
   ]
  },
  {
   "cell_type": "markdown",
   "metadata": {},
   "source": [
    "Lo que interpreto en cada columna es:\n",
    "\n",
    " 0. sobre qué piensan de la encuesta en sí.\n",
    " 1. cómo se sintieron durante la encuesta.\n",
    " 2. sobre algo no relacionado a la encuesta."
   ]
  },
  {
   "cell_type": "markdown",
   "metadata": {},
   "source": [
    "Esta agrupación tiene buen rendimiento porque tiene de las 3 cosas que queríamos: violencia, pensamiento de la encuesta y su sentir sobre la encuesta, y sin ambigüedad entre la diferencia de las categorías."
   ]
  },
  {
   "cell_type": "markdown",
   "metadata": {},
   "source": [
    "#### Con _tokens_ y _stemmer_."
   ]
  },
  {
   "cell_type": "markdown",
   "metadata": {},
   "source": [
    "Vectorizo las palabras"
   ]
  },
  {
   "cell_type": "code",
   "execution_count": 28,
   "metadata": {},
   "outputs": [],
   "source": [
    "vectorizador = CountVectorizer(stop_words=stopwords.words('spanish'), preprocessor=Stemmer) \n",
    "M = vectorizador.fit_transform(comentarios)"
   ]
  },
  {
   "cell_type": "markdown",
   "metadata": {},
   "source": [
    "Con la función que calcula las inercias de las agrupaciones, obtengo los valores del codo y los grafico."
   ]
  },
  {
   "cell_type": "code",
   "execution_count": 29,
   "metadata": {},
   "outputs": [
    {
     "data": {
      "image/png": "[encoded data removed]",
      "text/plain": [
       "<Figure size 432x288 with 1 Axes>"
      ]
     },
     "metadata": {
      "needs_background": "light"
     },
     "output_type": "display_data"
    }
   ],
   "source": [
    "codo = select_clusters(M, 15)\n",
    "plot_results_codo(codo, \"ro-\")"
   ]
  },
  {
   "cell_type": "markdown",
   "metadata": {},
   "source": [
    "Donde está un codo más marcado es en $n$ = 5"
   ]
  },
  {
   "cell_type": "code",
   "execution_count": 37,
   "metadata": {},
   "outputs": [
    {
     "data": {
      "text/html": [
       "<div>\n",
       "<style scoped>\n",
       "    .dataframe tbody tr th:only-of-type {\n",
       "        vertical-align: middle;\n",
       "    }\n",
       "\n",
       "    .dataframe tbody tr th {\n",
       "        vertical-align: top;\n",
       "    }\n",
       "\n",
       "    .dataframe thead th {\n",
       "        text-align: right;\n",
       "    }\n",
       "</style>\n",
       "<table border=\"1\" class=\"dataframe\">\n",
       "  <thead>\n",
       "    <tr style=\"text-align: right;\">\n",
       "      <th></th>\n",
       "      <th>0</th>\n",
       "      <th>1</th>\n",
       "      <th>2</th>\n",
       "      <th>3</th>\n",
       "      <th>4</th>\n",
       "    </tr>\n",
       "  </thead>\n",
       "  <tbody>\n",
       "    <tr>\n",
       "      <th>0</th>\n",
       "      <td>hij</td>\n",
       "      <td>buen</td>\n",
       "      <td>gobiern</td>\n",
       "      <td>aburr</td>\n",
       "      <td>pregunt</td>\n",
       "    </tr>\n",
       "    <tr>\n",
       "      <th>1</th>\n",
       "      <td>parej</td>\n",
       "      <td>sinti</td>\n",
       "      <td>trabaj</td>\n",
       "      <td>pregunt</td>\n",
       "      <td>tranquil</td>\n",
       "    </tr>\n",
       "    <tr>\n",
       "      <th>2</th>\n",
       "      <td>espos</td>\n",
       "      <td>repit</td>\n",
       "      <td>hombr</td>\n",
       "      <td>demasi</td>\n",
       "      <td>senti</td>\n",
       "    </tr>\n",
       "    <tr>\n",
       "      <th>3</th>\n",
       "      <td>problem</td>\n",
       "      <td>repetit</td>\n",
       "      <td>tip</td>\n",
       "      <td>extens</td>\n",
       "      <td>tip</td>\n",
       "    </tr>\n",
       "    <tr>\n",
       "      <th>4</th>\n",
       "      <td>violenci</td>\n",
       "      <td>pregunt</td>\n",
       "      <td>violenci</td>\n",
       "      <td>tedios</td>\n",
       "      <td>bien</td>\n",
       "    </tr>\n",
       "  </tbody>\n",
       "</table>\n",
       "</div>"
      ],
      "text/plain": [
       "          0        1         2        3         4\n",
       "0       hij     buen   gobiern    aburr   pregunt\n",
       "1     parej    sinti    trabaj  pregunt  tranquil\n",
       "2     espos    repit     hombr   demasi     senti\n",
       "3   problem  repetit       tip   extens       tip\n",
       "4  violenci  pregunt  violenci   tedios      bien"
      ]
     },
     "execution_count": 37,
     "metadata": {},
     "output_type": "execute_result"
    }
   ],
   "source": [
    "temas = factorizacion(preprocessor=Stemmer, texts=comentarios, n_components=5, k=5, semilla=2)\n",
    "pd.DataFrame(temas)"
   ]
  },
  {
   "cell_type": "markdown",
   "metadata": {},
   "source": [
    "Lo que interpreto en cada columna es:\n",
    "\n",
    " 0. palabras relacionadas a familia y violencia.\n",
    " 1. sobre qué piensan de la encuesta en sí, en positivo.\n",
    " 3. La relación entre gobierno-trabajo-hombres-violencia.\n",
    " 3. sobre qué piensan de la encuesta en sí, mayoría negativo.\n",
    " 4. cómo se sintieron durante la encuesta.\n"
   ]
  },
  {
   "cell_type": "markdown",
   "metadata": {},
   "source": [
    "Tiene la misma repetición innecesaria de categorías que cuando eran 4 componentes pero esta vez salió una columna interesante. Gobierno, trabajo, hombre y violencia en los primeros puestos. Me atreví a llamarle Patriarcado porque esto es lo que representa. "
   ]
  },
  {
   "cell_type": "markdown",
   "metadata": {},
   "source": [
    "# 6. Conclusiones"
   ]
  },
  {
   "cell_type": "markdown",
   "metadata": {},
   "source": [
    "Los comentarios salieron en su mayoría negativos, no porque el pensamiento en general de la encuesta sea negativo, sino que todas las personas que dijeron comentarios lo hicieron para expresar esta inconformidad.\n",
    "\n",
    "Al tener más componentes nos arriesgamos a que varios de estos tengan significados similares, como la percepción de los comentarios negativos y neutros, pero también ayuda a obtener categorías que cuando hay menos componentes son asignados a categorías con mayor impacto. Así pudimos ver el tipo de comentarios patriarcales que ahonda en el tipo de violencia sistemática que están comentando las encuestadas.\n",
    "\n",
    "La categorización de 3 componentes es la mejor categorización para estos comentarios, ya que resuelve el problema de tener demasiadas componentes donde varios de sus componentes tiene significados similares o de diferencia dudosa, pero tiene las suficientes para obtener buena información.\n"
   ]
  }
 ],
 "metadata": {
  "kernelspec": {
   "display_name": "Python 3",
   "language": "python",
   "name": "python3"
  },
  "language_info": {
   "codemirror_mode": {
    "name": "ipython",
    "version": 3
   },
   "file_extension": ".py",
   "mimetype": "text/x-python",
   "name": "python",
   "nbconvert_exporter": "python",
   "pygments_lexer": "ipython3",
   "version": "3.6.9"
  }
 },
 "nbformat": 4,
 "nbformat_minor": 4
}
